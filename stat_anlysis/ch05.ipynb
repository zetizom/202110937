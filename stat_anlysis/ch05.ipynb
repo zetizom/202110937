{
 "cells": [
  {
   "cell_type": "code",
   "execution_count": 14,
   "id": "9262856e-7057-4f61-b228-1e3df023f93b",
   "metadata": {},
   "outputs": [],
   "source": [
    "import numpy as np\n",
    "import matplotlib.pyplot as plt\n",
    "\n",
    "%precision 3\n",
    "%matplotlib inline\n",
    "\n",
    "# 10/30 녹강 / 시험 23일 15시 노트북, 오픈북 x, 표시한 부분에서 나옴   "
   ]
  },
  {
   "cell_type": "code",
   "execution_count": 15,
   "id": "847fd453-06d3-45a0-afc8-f490a1e14173",
   "metadata": {},
   "outputs": [],
   "source": [
    "x_set = np.array([1, 2, 3, 4, 5, 6]) # 각 항목에 확률이 다른 주사위\n",
    "\n",
    "# 확률변수 X가 취할 수 있는 값은  P(x1) = x1가 일어날 수 있는 확률  \n",
    "#pmf(별표): 확룰함수 - 확률이 나오게끔 하는 함수 \n",
    "\n",
    "# 불공정한 주사위의 확률 변수(별표)"
   ]
  },
  {
   "cell_type": "code",
   "execution_count": 16,
   "id": "04fe9a96-ff4f-4e5b-a726-0f6e78c5f262",
   "metadata": {},
   "outputs": [],
   "source": [
    "def f(x):\n",
    "    if x in x_set:\n",
    "        return x /21\n",
    "    else:\n",
    "        return 0\n",
    "        "
   ]
  },
  {
   "cell_type": "code",
   "execution_count": 17,
   "id": "aee8612b-bd89-41f1-a2f2-9da3c8ce2247",
   "metadata": {},
   "outputs": [],
   "source": [
    "X = [x_set ,f]"
   ]
  },
  {
   "cell_type": "code",
   "execution_count": 19,
   "id": "b899d4d7-654b-471a-848b-0f099a1bec18",
   "metadata": {},
   "outputs": [
    {
     "data": {
      "text/plain": [
       "{np.int64(1): 0.048,\n",
       " np.int64(2): 0.095,\n",
       " np.int64(3): 0.143,\n",
       " np.int64(4): 0.190,\n",
       " np.int64(5): 0.238,\n",
       " np.int64(6): 0.286}"
      ]
     },
     "execution_count": 19,
     "metadata": {},
     "output_type": "execute_result"
    }
   ],
   "source": [
    "# 확률 f_k를 구하기\n",
    "prob = np.array([f(x_k) for x_k in x_set])\n",
    "# 확률의 분표를 표시 \n",
    "dict(zip(x_set, prob))"
   ]
  },
  {
   "cell_type": "code",
   "execution_count": 21,
   "id": "fa657659-99a5-4035-a7ee-433361a753ab",
   "metadata": {},
   "outputs": [
    {
     "data": {
      "image/png": "[encoded data removed]",
      "text/plain": [
       "<Figure size 1000x600 with 1 Axes>"
      ]
     },
     "metadata": {},
     "output_type": "display_data"
    },
    {
     "data": {
      "image/png": "[encoded data removed]",
      "text/plain": [
       "<Figure size 1000x600 with 1 Axes>"
      ]
     },
     "metadata": {},
     "output_type": "display_data"
    }
   ],
   "source": [
    "fig = plt.figure(figsize = (10, 6))\n",
    "ax = fig.add_subplot(111)\n",
    "ax.bar(x_set, prob)\n",
    "ax.set_xlabel('label')\n",
    "ax.set_ylabel('probability')\n",
    "\n",
    "plt.show()"
   ]
  },
  {
   "cell_type": "code",
   "execution_count": 25,
   "id": "6c218383-4f99-4ec6-aed7-98865b361084",
   "metadata": {},
   "outputs": [
    {
     "data": {
      "text/plain": [
       "np.True_"
      ]
     },
     "execution_count": 25,
     "metadata": {},
     "output_type": "execute_result"
    }
   ],
   "source": [
    "np.all(prob >= 0)"
   ]
  },
  {
   "cell_type": "code",
   "execution_count": 26,
   "id": "6dd09182-a541-4c0e-8379-77421c63a69f",
   "metadata": {},
   "outputs": [
    {
     "data": {
      "text/plain": [
       "1.000"
      ]
     },
     "execution_count": 26,
     "metadata": {},
     "output_type": "execute_result"
    }
   ],
   "source": [
    "np.sum(prob)\n",
    "\n",
    "# 모든 확률을 더하면 1 (동그라미)"
   ]
  },
  {
   "cell_type": "code",
   "execution_count": 29,
   "id": "c708d3d8-e4eb-4318-8857-aa13f259251a",
   "metadata": {},
   "outputs": [
    {
     "data": {
      "text/plain": [
       "{'사과': 1, '딸기': 5, '귤': 10}"
      ]
     },
     "execution_count": 29,
     "metadata": {},
     "output_type": "execute_result"
    }
   ],
   "source": [
    "a = {'사과':1, '딸기': 5, '귤': 10}\n",
    "a"
   ]
  },
  {
   "cell_type": "code",
   "execution_count": 32,
   "id": "e2e12359-46c4-4914-b4de-5cca9452e231",
   "metadata": {},
   "outputs": [
    {
     "data": {
      "text/plain": [
       "{('초콜릿', 200): 20, ('마카롱', 500): 15, ('쿠키', 300): 30}"
      ]
     },
     "execution_count": 32,
     "metadata": {},
     "output_type": "execute_result"
    }
   ],
   "source": [
    "a = {('초콜릿', 200): 20, ('마카롱', 500):15, ('쿠키', 300):30}\n",
    "a"
   ]
  },
  {
   "cell_type": "code",
   "execution_count": 33,
   "id": "52b6298c-1db7-4657-a677-a4a34717eeb7",
   "metadata": {},
   "outputs": [
    {
     "data": {
      "text/plain": [
       "5"
      ]
     },
     "execution_count": 33,
     "metadata": {},
     "output_type": "execute_result"
    }
   ],
   "source": [
    "a = {'사과':1, '딸기': 5, '귤': 10}\n",
    "v1 = a['딸기']\n",
    "v1"
   ]
  },
  {
   "cell_type": "code",
   "execution_count": 49,
   "id": "09054d19-97be-4b94-8323-f1240f37f040",
   "metadata": {},
   "outputs": [
    {
     "ename": "KeyError",
     "evalue": "'레몬'",
     "output_type": "error",
     "traceback": [
      "\u001b[1;31m---------------------------------------------------------------------------\u001b[0m",
      "\u001b[1;31mKeyError\u001b[0m                                  Traceback (most recent call last)",
      "Cell \u001b[1;32mIn[49], line 1\u001b[0m\n\u001b[1;32m----> 1\u001b[0m v2 \u001b[38;5;241m=\u001b[39m a[\u001b[38;5;124m'\u001b[39m\u001b[38;5;124m레몬\u001b[39m\u001b[38;5;124m'\u001b[39m]\n\u001b[0;32m      2\u001b[0m v2\n",
      "\u001b[1;31mKeyError\u001b[0m: '레몬'"
     ]
    }
   ],
   "source": [
    "v2 = a['레몬']\n",
    "v2"
   ]
  },
  {
   "cell_type": "code",
   "execution_count": 35,
   "id": "d88180be-cd01-4376-95dd-ebbc1f7c0495",
   "metadata": {},
   "outputs": [
    {
     "data": {
      "text/plain": [
       "True"
      ]
     },
     "execution_count": 35,
     "metadata": {},
     "output_type": "execute_result"
    }
   ],
   "source": [
    "f1 = '딸기' in a\n",
    "f1"
   ]
  },
  {
   "cell_type": "code",
   "execution_count": 36,
   "id": "fdc41372-2e0a-4057-ad70-90618e1a0f7a",
   "metadata": {},
   "outputs": [
    {
     "data": {
      "text/plain": [
       "True"
      ]
     },
     "execution_count": 36,
     "metadata": {},
     "output_type": "execute_result"
    }
   ],
   "source": [
    "f2 = '레몬' not in a\n",
    "f2"
   ]
  },
  {
   "cell_type": "code",
   "execution_count": 37,
   "id": "80b239d6-322d-4b4f-9017-4030c4044c14",
   "metadata": {},
   "outputs": [
    {
     "data": {
      "text/plain": [
       "False"
      ]
     },
     "execution_count": 37,
     "metadata": {},
     "output_type": "execute_result"
    }
   ],
   "source": [
    "f2 = '레몬'  in a\n",
    "f2"
   ]
  },
  {
   "cell_type": "code",
   "execution_count": 38,
   "id": "6613edaf-3ed5-4d93-806a-5c6ad5c164c6",
   "metadata": {},
   "outputs": [
    {
     "data": {
      "text/plain": [
       "5"
      ]
     },
     "execution_count": 38,
     "metadata": {},
     "output_type": "execute_result"
    }
   ],
   "source": [
    "v1 = a.get('딸기')\n",
    "v1"
   ]
  },
  {
   "cell_type": "code",
   "execution_count": 39,
   "id": "abc672de-4a7b-47c3-ac25-0a61961ae992",
   "metadata": {},
   "outputs": [],
   "source": [
    "v2 = a.get('레몬')\n",
    "v2"
   ]
  },
  {
   "cell_type": "code",
   "execution_count": 41,
   "id": "006b7e3d-d1c5-41c2-9c99-a5fb501a3df2",
   "metadata": {},
   "outputs": [
    {
     "data": {
      "text/plain": [
       "{'초콜릿': 'One', '마카롱': 'Two', '쿠키': 'Three'}"
      ]
     },
     "execution_count": 41,
     "metadata": {},
     "output_type": "execute_result"
    }
   ],
   "source": [
    "a = {'초콜릿':1, '마카롱': 5, '쿠키': 10}\n",
    "a['초콜릿'] = 'One'\n",
    "a['마카롱'] = 'Two'\n",
    "a['쿠키'] = 'Three'\n",
    "a"
   ]
  },
  {
   "cell_type": "code",
   "execution_count": 44,
   "id": "c70b37ef-54f0-4179-8e34-c8b53de837f8",
   "metadata": {},
   "outputs": [
    {
     "data": {
      "text/plain": [
       "{'초콜릿': 20, '마카롱': 15, '쿠키': 30}"
      ]
     },
     "execution_count": 44,
     "metadata": {},
     "output_type": "execute_result"
    }
   ],
   "source": [
    "d = dict(초콜릿= 20, 마카롱= 15, 쿠키= 30)\n",
    "d"
   ]
  },
  {
   "cell_type": "code",
   "execution_count": 45,
   "id": "d3edf3e0-956d-47c2-b663-d1786e6f0d32",
   "metadata": {},
   "outputs": [
    {
     "data": {
      "text/plain": [
       "{'초콜릿': 20, '마카롱': 15, '쿠키': 30}"
      ]
     },
     "execution_count": 45,
     "metadata": {},
     "output_type": "execute_result"
    }
   ],
   "source": [
    "key = ['초콜릿', '마카롱', '쿠키']\n",
    "value = [20, 15, 30]\n",
    "d = dict(zip(key, value))\n",
    "d"
   ]
  },
  {
   "cell_type": "code",
   "execution_count": 47,
   "id": "b4d9f668-d590-44ed-badc-c1ee67fa91ed",
   "metadata": {},
   "outputs": [
    {
     "data": {
      "text/plain": [
       "{'초콜릿': 20, '마카롱': 15, '쿠키': 30}"
      ]
     },
     "execution_count": 47,
     "metadata": {},
     "output_type": "execute_result"
    }
   ],
   "source": [
    "d = dict([('초콜릿', 20),('마카롱', 15), ('쿠키', 30)])\n",
    "d"
   ]
  },
  {
   "cell_type": "code",
   "execution_count": 43,
   "id": "5b701165-255a-49d3-82a3-f2edd0493741",
   "metadata": {},
   "outputs": [
    {
     "data": {
      "text/plain": [
       "0.286"
      ]
     },
     "execution_count": 43,
     "metadata": {},
     "output_type": "execute_result"
    }
   ],
   "source": [
    "# 누적분포 함수- cdf(별표 3개)\n",
    "def F(x):\n",
    "    return np.sum([f(x_k) for x_k in x_set if x_k <= x])\n",
    "F(3)"
   ]
  },
  {
   "cell_type": "code",
   "execution_count": 54,
   "id": "63f3f159-9fbe-4387-bada-5a83c267f2d2",
   "metadata": {},
   "outputs": [
    {
     "data": {
      "text/plain": [
       "{np.int64(5): 0.048,\n",
       " np.int64(7): 0.095,\n",
       " np.int64(9): 0.143,\n",
       " np.int64(11): 0.190,\n",
       " np.int64(13): 0.238,\n",
       " np.int64(15): 0.286}"
      ]
     },
     "execution_count": 54,
     "metadata": {},
     "output_type": "execute_result"
    }
   ],
   "source": [
    "# 확률 변수를 표준화(별표) 할 때 중요한 연산(별표 밑줄)\n",
    "# 확률 변수를 변환을 해도 여전히 확률 변수이다.(동그라미)\n",
    "y_set = np.array([2*x_k+3 for x_k in x_set]) # 기존의 코드와 어떻게 바뀌는지를 중점으로 파악 시험 나옴 \n",
    "prob = np.array([f(x_k) for x_k in x_set])\n",
    "dict(zip(y_set, prob))"
   ]
  },
  {
   "cell_type": "code",
   "execution_count": 56,
   "id": "1055340e-8ee9-44f7-b463-a3dff31ada88",
   "metadata": {},
   "outputs": [
    {
     "data": {
      "text/plain": [
       "4.333"
      ]
     },
     "execution_count": 56,
     "metadata": {},
     "output_type": "execute_result"
    }
   ],
   "source": [
    "# 기댓값(별표) - 확률 변수의 평균 \n",
    "# 확률 변수의 중심을 나타내는 지표(동그라미)\n",
    "np.sum([x_k*f(x_k) for x_k in x_set])"
   ]
  },
  {
   "cell_type": "code",
   "execution_count": 58,
   "id": "5457f6d2-47f0-410c-82e9-afaf1809b9e9",
   "metadata": {},
   "outputs": [
    {
     "data": {
      "text/plain": [
       "array([1, 4, 2, 3, 0], dtype=int32)"
      ]
     },
     "execution_count": 58,
     "metadata": {},
     "output_type": "execute_result"
    }
   ],
   "source": [
    "np.random.choice(5, 5, replace = False)"
   ]
  },
  {
   "cell_type": "code",
   "execution_count": 59,
   "id": "05a1548e-7a6a-4407-8ae5-1a6e5f530202",
   "metadata": {},
   "outputs": [
    {
     "data": {
      "text/plain": [
       "array([3, 1, 4], dtype=int32)"
      ]
     },
     "execution_count": 59,
     "metadata": {},
     "output_type": "execute_result"
    }
   ],
   "source": [
    "np.random.choice(5, 3, replace = False)"
   ]
  },
  {
   "cell_type": "code",
   "execution_count": 66,
   "id": "67c94cbb-4a55-497c-be6e-13f1213b46fc",
   "metadata": {},
   "outputs": [
    {
     "data": {
      "text/plain": [
       "array([0, 3, 1, 0, 2, 3, 2, 2, 0, 1], dtype=int32)"
      ]
     },
     "execution_count": 66,
     "metadata": {},
     "output_type": "execute_result"
    }
   ],
   "source": [
    "np.random.choice(5, 10, replace = True)"
   ]
  },
  {
   "cell_type": "code",
   "execution_count": 65,
   "id": "4d2dd67c-37ac-495d-876e-10ad6602c6f7",
   "metadata": {},
   "outputs": [
    {
     "data": {
      "text/plain": [
       "array([3, 0, 3, 2, 3, 3, 2, 0, 3, 2], dtype=int32)"
      ]
     },
     "execution_count": 65,
     "metadata": {},
     "output_type": "execute_result"
    }
   ],
   "source": [
    "np.random.choice(5, 10 , p = [0.1, 0, 0.3, 0.6, 0])"
   ]
  },
  {
   "cell_type": "code",
   "execution_count": 70,
   "id": "3bc9c392-24a8-4ba6-8f73-47949b888fbf",
   "metadata": {},
   "outputs": [
    {
     "data": {
      "text/plain": [
       "4.333"
      ]
     },
     "execution_count": 70,
     "metadata": {},
     "output_type": "execute_result"
    }
   ],
   "source": [
    "sample = np.random.choice(x_set, int(1e6), p =prob) //int(1e6)가 머임?\n",
    "np.mean(sample)"
   ]
  },
  {
   "cell_type": "code",
   "execution_count": 72,
   "id": "b6bd7c00-32a3-457e-89ed-717a1d8112e9",
   "metadata": {},
   "outputs": [],
   "source": [
    "def E(x, g=lambda x: x):\n",
    "    x_set, f=x\n",
    "    return np.sum([g(x_k) * f(x_k) for x_k in x_set])\n"
   ]
  },
  {
   "cell_type": "code",
   "execution_count": 74,
   "id": "1f55381f-50c1-4b1c-ac3a-d7a846c5d401",
   "metadata": {},
   "outputs": [
    {
     "data": {
      "text/plain": [
       "4.333"
      ]
     },
     "execution_count": 74,
     "metadata": {},
     "output_type": "execute_result"
    }
   ],
   "source": [
    "E(X)"
   ]
  },
  {
   "cell_type": "code",
   "execution_count": 77,
   "id": "27565d5f-2019-4b53-bcb9-eb061573e101",
   "metadata": {},
   "outputs": [
    {
     "data": {
      "text/plain": [
       "11.667"
      ]
     },
     "execution_count": 77,
     "metadata": {},
     "output_type": "execute_result"
    }
   ],
   "source": [
    "E(X, g=lambda x: 2*x+3)"
   ]
  },
  {
   "cell_type": "code",
   "execution_count": null,
   "id": "36afb0e9-fe72-4631-8a5c-f79fd79677bc",
   "metadata": {},
   "outputs": [],
   "source": [
    "strings = ['h', 'p', 'y', 'k','b']\n",
    "strings.sort(key=lambda x: len(set(list(x))))\n",
    "strings"
   ]
  },
  {
   "cell_type": "code",
   "execution_count": 95,
   "id": "066104fc-71ec-4306-a56d-d0e7d9567aaf",
   "metadata": {},
   "outputs": [
    {
     "ename": "RecursionError",
     "evalue": "maximum recursion depth exceeded",
     "output_type": "error",
     "traceback": [
      "\u001b[1;31m---------------------------------------------------------------------------\u001b[0m",
      "\u001b[1;31mRecursionError\u001b[0m                            Traceback (most recent call last)",
      "Cell \u001b[1;32mIn[95], line 1\u001b[0m\n\u001b[1;32m----> 1\u001b[0m \u001b[38;5;241m2\u001b[39m \u001b[38;5;241m*\u001b[39m E(X) \u001b[38;5;241m+\u001b[39m \u001b[38;5;241m3\u001b[39m\n",
      "Cell \u001b[1;32mIn[83], line 3\u001b[0m, in \u001b[0;36mE\u001b[1;34m(x, g)\u001b[0m\n\u001b[0;32m      1\u001b[0m \u001b[38;5;28;01mdef\u001b[39;00m\u001b[38;5;250m \u001b[39m\u001b[38;5;21mE\u001b[39m(x, g\u001b[38;5;241m=\u001b[39m\u001b[38;5;28;01mlambda\u001b[39;00m x: x):\n\u001b[0;32m      2\u001b[0m     x_set, f\u001b[38;5;241m=\u001b[39mx\n\u001b[1;32m----> 3\u001b[0m     mean \u001b[38;5;241m=\u001b[39m E(X, g)\n\u001b[0;32m      4\u001b[0m     \u001b[38;5;28;01mreturn\u001b[39;00m np\u001b[38;5;241m.\u001b[39msum([(x_k\u001b[38;5;241m-\u001b[39mmean)\u001b[38;5;241m*\u001b[39m\u001b[38;5;241m*\u001b[39m\u001b[38;5;241m2\u001b[39m \u001b[38;5;241m*\u001b[39m f(x_k) \u001b[38;5;28;01mfor\u001b[39;00m x_k \u001b[38;5;129;01min\u001b[39;00m x_set])\n",
      "Cell \u001b[1;32mIn[83], line 3\u001b[0m, in \u001b[0;36mE\u001b[1;34m(x, g)\u001b[0m\n\u001b[0;32m      1\u001b[0m \u001b[38;5;28;01mdef\u001b[39;00m\u001b[38;5;250m \u001b[39m\u001b[38;5;21mE\u001b[39m(x, g\u001b[38;5;241m=\u001b[39m\u001b[38;5;28;01mlambda\u001b[39;00m x: x):\n\u001b[0;32m      2\u001b[0m     x_set, f\u001b[38;5;241m=\u001b[39mx\n\u001b[1;32m----> 3\u001b[0m     mean \u001b[38;5;241m=\u001b[39m E(X, g)\n\u001b[0;32m      4\u001b[0m     \u001b[38;5;28;01mreturn\u001b[39;00m np\u001b[38;5;241m.\u001b[39msum([(x_k\u001b[38;5;241m-\u001b[39mmean)\u001b[38;5;241m*\u001b[39m\u001b[38;5;241m*\u001b[39m\u001b[38;5;241m2\u001b[39m \u001b[38;5;241m*\u001b[39m f(x_k) \u001b[38;5;28;01mfor\u001b[39;00m x_k \u001b[38;5;129;01min\u001b[39;00m x_set])\n",
      "    \u001b[1;31m[... skipping similar frames: E at line 3 (2974 times)]\u001b[0m\n",
      "Cell \u001b[1;32mIn[83], line 3\u001b[0m, in \u001b[0;36mE\u001b[1;34m(x, g)\u001b[0m\n\u001b[0;32m      1\u001b[0m \u001b[38;5;28;01mdef\u001b[39;00m\u001b[38;5;250m \u001b[39m\u001b[38;5;21mE\u001b[39m(x, g\u001b[38;5;241m=\u001b[39m\u001b[38;5;28;01mlambda\u001b[39;00m x: x):\n\u001b[0;32m      2\u001b[0m     x_set, f\u001b[38;5;241m=\u001b[39mx\n\u001b[1;32m----> 3\u001b[0m     mean \u001b[38;5;241m=\u001b[39m E(X, g)\n\u001b[0;32m      4\u001b[0m     \u001b[38;5;28;01mreturn\u001b[39;00m np\u001b[38;5;241m.\u001b[39msum([(x_k\u001b[38;5;241m-\u001b[39mmean)\u001b[38;5;241m*\u001b[39m\u001b[38;5;241m*\u001b[39m\u001b[38;5;241m2\u001b[39m \u001b[38;5;241m*\u001b[39m f(x_k) \u001b[38;5;28;01mfor\u001b[39;00m x_k \u001b[38;5;129;01min\u001b[39;00m x_set])\n",
      "\u001b[1;31mRecursionError\u001b[0m: maximum recursion depth exceeded"
     ]
    }
   ],
   "source": [
    "2 * E(X) + 3"
   ]
  },
  {
   "cell_type": "code",
   "execution_count": null,
   "id": "eb86f4b8-136f-4e74-8939-c6aa781309f7",
   "metadata": {},
   "outputs": [],
   "source": [
    "# 분산(별표 5개 시험에 냄), 산포도(동그라미), 편자제곱의 기댓값(밑줄 ), 수식은 외우기\n",
    "# 분산이 무엇이고, 분산이 어떤 수식인지는 시험에 냄 \n",
    "\n",
    "mean = E(X)\n",
    "np.sum([(x_k-mean)**2 * f(x_k) for x_k in x_set])\n"
   ]
  },
  {
   "cell_type": "code",
   "execution_count": null,
   "id": "8128bea3-dfd0-4085-8af1-b2399ae1a743",
   "metadata": {},
   "outputs": [],
   "source": [
    "def V(x, g=lambda x: x):\n",
    "    x_set, f=x\n",
    "    mean = E(X, g)\n",
    "    return np.sum([(x_k-mean)**2 * f(x_k) for x_k in x_set])"
   ]
  },
  {
   "cell_type": "code",
   "execution_count": null,
   "id": "1db7a931-ee32-4ccc-9bcb-36c27957b847",
   "metadata": {},
   "outputs": [],
   "source": [
    "V(X)"
   ]
  },
  {
   "cell_type": "code",
   "execution_count": null,
   "id": "0d3aba46-d1e7-4467-aa34-97c8835d897c",
   "metadata": {},
   "outputs": [],
   "source": [
    "V(X, lambda x: 2*x + 3)"
   ]
  },
  {
   "cell_type": "code",
   "execution_count": null,
   "id": "bc5254f4-02f9-40fb-a82b-555f2346e985",
   "metadata": {},
   "outputs": [],
   "source": [
    "2**2 * V(X)"
   ]
  },
  {
   "cell_type": "code",
   "execution_count": null,
   "id": "00824f11-13c7-498d-8b44-c1c3f2eee881",
   "metadata": {},
   "outputs": [],
   "source": []
  }
 ],
 "metadata": {
  "kernelspec": {
   "display_name": "Python [conda env:base] *",
   "language": "python",
   "name": "conda-base-py"
  },
  "language_info": {
   "codemirror_mode": {
    "name": "ipython",
    "version": 3
   },
   "file_extension": ".py",
   "mimetype": "text/x-python",
   "name": "python",
   "nbconvert_exporter": "python",
   "pygments_lexer": "ipython3",
   "version": "3.13.5"
  }
 },
 "nbformat": 4,
 "nbformat_minor": 5
}
